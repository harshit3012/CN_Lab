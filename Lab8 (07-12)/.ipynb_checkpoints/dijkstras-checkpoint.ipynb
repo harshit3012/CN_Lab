{
 "cells": [
  {
   "cell_type": "markdown",
   "metadata": {},
   "source": [
    "## Implement Dijkstra’s algorithm to compute the shortest path through a graph."
   ]
  },
  {
   "cell_type": "code",
   "execution_count": 2,
   "metadata": {},
   "outputs": [],
   "source": [
    "import math\n",
    "# For INF"
   ]
  },
  {
   "cell_type": "code",
   "execution_count": 3,
   "metadata": {},
   "outputs": [],
   "source": [
    "def dijkstra(graph, src):\n",
    "    distance = [math.inf] * n\n",
    "    distance[src] = 0\n",
    "    final_selected = [(src, distance[src])]\n",
    "    curr_vertex = src\n",
    "\n",
    "    while len(final_selected) < n:\n",
    "        min_vertex, min_dist = -1, math.inf\n",
    "        for neighbor in graph[curr_vertex]:\n",
    "            vertex, weight = neighbor\n",
    "            distance[vertex] = min(\n",
    "                distance[curr_vertex] + weight, distance[vertex])\n",
    "\n",
    "        for vertex in range(n):\n",
    "            if distance[vertex] <= min_dist and (vertex, distance[vertex]) not in final_selected:\n",
    "                min_vertex, min_dist = vertex, distance[vertex]\n",
    "\n",
    "        final_selected.append((min_vertex, min_dist))\n",
    "        curr_vertex = min_vertex\n",
    "\n",
    "    print('Vertex\\tDistance')\n",
    "    [print(f'{v}\\t{d}') for v, d in final_selected]\n"
   ]
  },
  {
   "cell_type": "markdown",
   "metadata": {},
   "source": [
    "Assume the following graph \n",
    "<img src=\"https://ucarecdn.com/a67cb888-aa0c-424b-8c7f-847e38dd5691/\" />"
   ]
  },
  {
   "cell_type": "code",
   "execution_count": null,
   "metadata": {},
   "outputs": [
    {
     "name": "stdout",
     "output_type": "stream",
     "text": [
      "Enter no of vertices: 5\n",
      "Enter no of edges: 7\n",
      "Enter the edges as follows: [start] [end] [weight]\n",
      "0 1 3\n",
      "0 3 7\n",
      "0 4 8\n",
      "1 2 1\n",
      "1 3 4\n"
     ]
    }
   ],
   "source": [
    "if __name__ == \"__main__\":\n",
    "    n = int(input(\"Enter no of vertices: \"))\n",
    "    e = int(input(\"Enter no of edges: \"))\n",
    "    graph_dict = {}\n",
    "    print(\"Enter the edges as follows: [start] [end] [weight]\")\n",
    "    for i in range(e):\n",
    "        start, end, weight = [int(j) for j in input().split()]\n",
    "        if not graph_dict.get(start):\n",
    "            graph_dict[start] = [(end, weight)]\n",
    "        else:\n",
    "            graph_dict[start].append((end, weight))\n",
    "    \n",
    "        if not graph_dict.get(end):\n",
    "            graph_dict[end] = [(start, weight)]\n",
    "        else:\n",
    "            graph_dict[end].append((start, weight))\n",
    "    for i in range(n):\n",
    "        print(f'Source {i}: ')\n",
    "        dijkstra(graph_dict, i)"
   ]
  },
  {
   "cell_type": "code",
   "execution_count": null,
   "metadata": {},
   "outputs": [],
   "source": []
  }
 ],
 "metadata": {
  "kernelspec": {
   "display_name": "Python 3",
   "language": "python",
   "name": "python3"
  },
  "language_info": {
   "codemirror_mode": {
    "name": "ipython",
    "version": 3
   },
   "file_extension": ".py",
   "mimetype": "text/x-python",
   "name": "python",
   "nbconvert_exporter": "python",
   "pygments_lexer": "ipython3",
   "version": "3.8.5"
  }
 },
 "nbformat": 4,
 "nbformat_minor": 2
}
