{
 "cells": [
  {
   "cell_type": "markdown",
   "metadata": {},
   "source": [
    "### Implement Dijkstra’s algorithm to compute the shortest path through a graph."
   ]
  },
  {
   "cell_type": "code",
   "execution_count": 2,
   "metadata": {},
   "outputs": [],
   "source": [
    "import math\n",
    "# For INF"
   ]
  },
  {
   "cell_type": "code",
   "execution_count": 5,
   "metadata": {},
   "outputs": [],
   "source": [
    "def dijkstra(graph, n, src):\n",
    "    distance = [math.inf] * n\n",
    "    distance[src] = 0\n",
    "    final_selected = [(src, distance[src])]\n",
    "    curr_vertex = src\n",
    "\n",
    "    while len(final_selected) < n:\n",
    "        min_vertex, min_dist = -1, math.inf\n",
    "        for neighbor in graph[curr_vertex]:\n",
    "            vertex, weight = neighbor\n",
    "            distance[vertex] = min(\n",
    "                distance[curr_vertex] + weight, distance[vertex])\n",
    "\n",
    "        for vertex in range(n):\n",
    "            if distance[vertex] <= min_dist and (vertex, distance[vertex]) not in final_selected:\n",
    "                min_vertex, min_dist = vertex, distance[vertex]\n",
    "\n",
    "        final_selected.append((min_vertex, min_dist))\n",
    "        curr_vertex = min_vertex\n",
    "\n",
    "    print('Vertex\\tDistance')\n",
    "    [print(f'{v}\\t{d}') for v, d in final_selected]\n"
   ]
  },
  {
   "cell_type": "markdown",
   "metadata": {},
   "source": [
    "### Assume the following weighted undirected graph \n",
    "<img src=\"https://raw.githubusercontent.com/harshit3012/CN_Lab/master/Lab8%20(07-12)/graph-1.png\" />"
   ]
  },
  {
   "cell_type": "code",
   "execution_count": 6,
   "metadata": {},
   "outputs": [
    {
     "name": "stdout",
     "output_type": "stream",
     "text": [
      "Enter no of vertices: 5\n",
      "Enter no of edges: 7\n",
      "Enter the edges as follows: [start] [end] [weight]\n",
      "0 1 3\n",
      "0 3 7\n",
      "0 4 8\n",
      "1 2 1\n",
      "1 3 4\n",
      "2 3 2\n",
      "3 4 3\n",
      "Source 0: \n",
      "Vertex\tDistance\n",
      "0\t0\n",
      "1\t3\n",
      "2\t4\n",
      "3\t6\n",
      "4\t8\n",
      "Source 1: \n",
      "Vertex\tDistance\n",
      "1\t0\n",
      "2\t1\n",
      "3\t3\n",
      "0\t3\n",
      "4\t6\n",
      "Source 2: \n",
      "Vertex\tDistance\n",
      "2\t0\n",
      "1\t1\n",
      "3\t2\n",
      "0\t4\n",
      "4\t5\n",
      "Source 3: \n",
      "Vertex\tDistance\n",
      "3\t0\n",
      "2\t2\n",
      "4\t3\n",
      "1\t3\n",
      "0\t6\n",
      "Source 4: \n",
      "Vertex\tDistance\n",
      "4\t0\n",
      "3\t3\n",
      "2\t5\n",
      "1\t6\n",
      "0\t8\n"
     ]
    }
   ],
   "source": [
    "if __name__ == \"__main__\":\n",
    "    n = int(input(\"Enter no of vertices: \"))\n",
    "    e = int(input(\"Enter no of edges: \"))\n",
    "    graph_dict = {}\n",
    "    print(\"Enter the edges as follows: [start] [end] [weight]\")\n",
    "    for i in range(e):\n",
    "        start, end, weight = [int(j) for j in input().split()]\n",
    "        if not graph_dict.get(start):\n",
    "            graph_dict[start] = [(end, weight)]\n",
    "        else:\n",
    "            graph_dict[start].append((end, weight))\n",
    "    \n",
    "        if not graph_dict.get(end):\n",
    "            graph_dict[end] = [(start, weight)]\n",
    "        else:\n",
    "            graph_dict[end].append((start, weight))\n",
    "    for i in range(n):\n",
    "        print(f'Source {i}: ')\n",
    "        dijkstra(graph_dict, n, i)"
   ]
  },
  {
   "cell_type": "code",
   "execution_count": null,
   "metadata": {},
   "outputs": [],
   "source": []
  }
 ],
 "metadata": {
  "kernelspec": {
   "display_name": "Python 3",
   "language": "python",
   "name": "python3"
  },
  "language_info": {
   "codemirror_mode": {
    "name": "ipython",
    "version": 3
   },
   "file_extension": ".py",
   "mimetype": "text/x-python",
   "name": "python",
   "nbconvert_exporter": "python",
   "pygments_lexer": "ipython3",
   "version": "3.8.5"
  }
 },
 "nbformat": 4,
 "nbformat_minor": 2
}